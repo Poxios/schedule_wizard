{
 "cells": [
  {
   "cell_type": "code",
   "execution_count": null,
   "metadata": {},
   "outputs": [],
   "source": [
    "from typing import List, Dict\n",
    "\n",
    "# Define the classes to match the input structure\n",
    "class ISubject:\n",
    "    def __init__(self, name: str, time: List[Dict[str, str]]):\n",
    "        self.name = name\n",
    "        self.time = time\n",
    "\n",
    "class ISubjectGroup:\n",
    "    def __init__(self, isMandatory: bool, name: str, subjects: List[ISubject]):\n",
    "        self.isMandatory = isMandatory\n",
    "        self.name = name\n",
    "        self.subjects = subjects\n",
    "\n",
    "# Example input\n",
    "input_data: List[ISubjectGroup] = [\n",
    "    ISubjectGroup(\n",
    "        isMandatory=True,\n",
    "        name=\"Computer Science\",\n",
    "        subjects=[\n",
    "            ISubject(\n",
    "                name=\"Algebra\",\n",
    "                time=[\n",
    "                    {\"start\": \"09:00\", \"end\": \"10:00\"},\n",
    "                    {\"start\": \"12:00\", \"end\": \"13:00\"}\n",
    "                ]\n",
    "            ),\n",
    "            ISubject(\n",
    "                name=\"Geometry\",\n",
    "                time=[\n",
    "                    {\"start\": \"10:15\", \"end\": \"11:15\"}\n",
    "                ]\n",
    "            )\n",
    "        ]\n",
    "    ),\n",
    "    ISubjectGroup(\n",
    "        isMandatory=False,\n",
    "        name=\"Science\",\n",
    "        subjects=[\n",
    "            ISubject(\n",
    "                name=\"Physics\",\n",
    "                time=[\n",
    "                    {\"start\": \"09:00\", \"end\": \"10:00\"}\n",
    "                ]\n",
    "            )\n",
    "        ]\n",
    "    )\n",
    "]"
   ]
  }
 ],
 "metadata": {
  "language_info": {
   "name": "python"
  }
 },
 "nbformat": 4,
 "nbformat_minor": 2
}
