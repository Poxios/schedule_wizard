{
 "cells": [
  {
   "cell_type": "code",
   "execution_count": 107,
   "metadata": {},
   "outputs": [],
   "source": [
    "from copy import deepcopy\n",
    "from itertools import combinations"
   ]
  },
  {
   "cell_type": "code",
   "execution_count": 108,
   "metadata": {},
   "outputs": [],
   "source": [
    "# util for time control\n",
    "def string_time_to_minutes(time):\n",
    "    return int(time.split(':')[0]) * 60 + int(time.split(':')[1])"
   ]
  },
  {
   "cell_type": "code",
   "execution_count": 109,
   "metadata": {},
   "outputs": [],
   "source": [
    "input_data = {\n",
    "    \"minSubjectsCount\": 2,\n",
    "    \"groups\": [\n",
    "        {\n",
    "            \"name\": \"프로그래밍언어\",\n",
    "            \"gradeTime\":3,\n",
    "            \"isMandatory\": True,\n",
    "            \"subjects\": [\n",
    "                {\n",
    "                    \"name\": \"프로그래밍언어A\",\n",
    "                    \"time\": [\n",
    "                        {\"day\": \"TUE\", \"start\": \"10:30\", \"end\": \"11:45\"},\n",
    "                        {\"day\": \"THU\", \"start\": \"13:30\", \"end\": \"14:45\"}\n",
    "                    ]\n",
    "                },\n",
    "                {\n",
    "                    \"name\": \"프로그래밍언어B\",\n",
    "                    \"time\": [\n",
    "                        {\"day\": \"TUE\", \"start\": \"13:30\", \"end\": \"14:45\"},\n",
    "                        {\"day\": \"THU\", \"start\": \"10:30\", \"end\": \"11:45\"}\n",
    "                    ]\n",
    "                },\n",
    "                {\n",
    "                    \"name\": \"프로그래밍언어C\",\n",
    "                    \"time\": [\n",
    "                        {\"day\": \"TUE\", \"start\": \"15:00\", \"end\": \"16:15\"},\n",
    "                        {\"day\": \"THU\", \"start\": \"15:00\", \"end\": \"16:15\"}\n",
    "                    ]\n",
    "                },\n",
    "            ]\n",
    "        },\n",
    "        {\n",
    "            \"name\": \"마케팅\",\n",
    "            \"gradeTime\":3,\n",
    "            \"isMandatory\": False,\n",
    "            \"subjects\": [\n",
    "                {\n",
    "                    \"name\": \"마케팅A\",\n",
    "                    \"time\": [\n",
    "                        {\"day\": \"TUE\", \"start\": \"13:30\", \"end\": \"14:45\"},\n",
    "                        {\"day\": \"THU\", \"start\": \"13:30\", \"end\": \"14:45\"}\n",
    "                    ]\n",
    "                }\n",
    "            ]\n",
    "        },\n",
    "        {\n",
    "            \"name\": \"Entrepreneurship\",\n",
    "            \"gradeTime\":3,\n",
    "            \"isMandatory\": False,\n",
    "            \"subjects\": [\n",
    "                {\n",
    "                    \"name\": \"Entrepreneurship (최금선)\",\n",
    "                    \"time\": [\n",
    "                        {\"day\": \"THU\", \"start\": \"10:30\", \"end\": \"11:45\"},\n",
    "                        {\"day\": \"THU\", \"start\": \"12:00\", \"end\": \"13:15\"}\n",
    "                    ]\n",
    "                },\n",
    "                {\n",
    "                    \"name\": \"Entrepreneurship (박병호)\",\n",
    "                    \"time\": [\n",
    "                        {\"day\": \"TUE\", \"start\": \"15:00\", \"end\": \"16:15\"},\n",
    "                        {\"day\": \"TUE\", \"start\": \"16:30\", \"end\": \"17:45\"}\n",
    "                    ]\n",
    "                },\n",
    "                {\n",
    "                    \"name\": \"Entrepreneurship (김영수)A\",\n",
    "                    \"time\": [\n",
    "                        {\"day\": \"MON\", \"start\": \"15:00\", \"end\": \"16:15\"},\n",
    "                        {\"day\": \"WED\", \"start\": \"15:00\", \"end\": \"16:15\"},\n",
    "                    ]\n",
    "                },\n",
    "                {\n",
    "                    \"name\": \"Entrepreneurship (김영수)B\",\n",
    "                    \"time\": [\n",
    "                        {\"day\": \"MON\", \"start\": \"16:30\", \"end\": \"17:45\"},\n",
    "                        {\"day\": \"WED\", \"start\": \"16:30\", \"end\": \"17:45\"},\n",
    "                    ]\n",
    "                }\n",
    "            ]\n",
    "        },\n",
    "        {\n",
    "            \"name\": \"생산시스템관리\",\n",
    "            \"gradeTime\":3,\n",
    "            \"isMandatory\": False,\n",
    "            \"subjects\": [\n",
    "                {\n",
    "                    \"name\": \"생산시스템관리(가)\",\n",
    "                    \"time\": [\n",
    "                        {\"day\": \"MON\", \"start\": \"10:30\", \"end\": \"11:45\"},\n",
    "                        {\"day\": \"THU\", \"start\": \"12:00\", \"end\": \"13:15\"}\n",
    "                    ]\n",
    "                },\n",
    "                {\n",
    "                    \"name\": \"생산시스템관리(나)\",\n",
    "                    \"time\": [\n",
    "                        {\"day\": \"MON\", \"start\": \"12:00\", \"end\": \"13:15\"},\n",
    "                        {\"day\": \"THU\", \"start\": \"13:30\", \"end\": \"14:45\"}\n",
    "                    ]\n",
    "                },\n",
    "                {\n",
    "                    \"name\": \"생산시스템관리(다)\",\n",
    "                    \"time\": [\n",
    "                        {\"day\": \"TUE\", \"start\": \"12:00\", \"end\": \"13:15\"},\n",
    "                        {\"day\": \"THU\", \"start\": \"16:30\", \"end\": \"17:45\"},\n",
    "                    ]\n",
    "                }\n",
    "            ]\n",
    "        },\n",
    "    ]\n",
    "}\n"
   ]
  },
  {
   "cell_type": "code",
   "execution_count": 110,
   "metadata": {},
   "outputs": [],
   "source": [
    "# todo: 최소 학점으로 입력받으셈\n",
    "# 1. 컴비네이션으로 전공선택 몇개 고른 경우의 수 모두 구하기 (최소 학점 넘는 경우의 수)\n",
    "# 2. 3 -> 3 -> 3 등등 이런 식으로 재귀로 가면서 시간 상 가능한 경우의 수 arr에 다 추가\n",
    "# 3. free_days_count을 구하고, 각 일의 free time between classes를 구한다\n"
   ]
  },
  {
   "cell_type": "code",
   "execution_count": 111,
   "metadata": {},
   "outputs": [
    {
     "name": "stdout",
     "output_type": "stream",
     "text": [
      "[({'name': '마케팅', 'gradeTime': 3, 'isMandatory': False, 'subjects': [{'name': '마케팅A', 'time': [{'day': 'TUE', 'start': '13:30', 'end': '14:45'}, {'day': 'THU', 'start': '13:30', 'end': '14:45'}]}]}, {'name': 'Entrepreneurship', 'gradeTime': 3, 'isMandatory': False, 'subjects': [{'name': 'Entrepreneurship (최금선)', 'time': [{'day': 'THU', 'start': '10:30', 'end': '11:45'}, {'day': 'THU', 'start': '12:00', 'end': '13:15'}]}, {'name': 'Entrepreneurship (박병호)', 'time': [{'day': 'TUE', 'start': '15:00', 'end': '16:15'}, {'day': 'TUE', 'start': '16:30', 'end': '17:45'}]}, {'name': 'Entrepreneurship (김영수)A', 'time': [{'day': 'MON', 'start': '15:00', 'end': '16:15'}, {'day': 'WED', 'start': '15:00', 'end': '16:15'}]}, {'name': 'Entrepreneurship (김영수)B', 'time': [{'day': 'MON', 'start': '16:30', 'end': '17:45'}, {'day': 'WED', 'start': '16:30', 'end': '17:45'}]}]}), ({'name': '마케팅', 'gradeTime': 3, 'isMandatory': False, 'subjects': [{'name': '마케팅A', 'time': [{'day': 'TUE', 'start': '13:30', 'end': '14:45'}, {'day': 'THU', 'start': '13:30', 'end': '14:45'}]}]}, {'name': '생산시스템관리', 'gradeTime': 3, 'isMandatory': False, 'subjects': [{'name': '생산시스템관리(가)', 'time': [{'day': 'MON', 'start': '10:30', 'end': '11:45'}, {'day': 'THU', 'start': '12:00', 'end': '13:15'}]}, {'name': '생산시스템관리(나)', 'time': [{'day': 'MON', 'start': '12:00', 'end': '13:15'}, {'day': 'THU', 'start': '13:30', 'end': '14:45'}]}, {'name': '생산시스템관리(다)', 'time': [{'day': 'TUE', 'start': '12:00', 'end': '13:15'}, {'day': 'THU', 'start': '16:30', 'end': '17:45'}]}]}), ({'name': 'Entrepreneurship', 'gradeTime': 3, 'isMandatory': False, 'subjects': [{'name': 'Entrepreneurship (최금선)', 'time': [{'day': 'THU', 'start': '10:30', 'end': '11:45'}, {'day': 'THU', 'start': '12:00', 'end': '13:15'}]}, {'name': 'Entrepreneurship (박병호)', 'time': [{'day': 'TUE', 'start': '15:00', 'end': '16:15'}, {'day': 'TUE', 'start': '16:30', 'end': '17:45'}]}, {'name': 'Entrepreneurship (김영수)A', 'time': [{'day': 'MON', 'start': '15:00', 'end': '16:15'}, {'day': 'WED', 'start': '15:00', 'end': '16:15'}]}, {'name': 'Entrepreneurship (김영수)B', 'time': [{'day': 'MON', 'start': '16:30', 'end': '17:45'}, {'day': 'WED', 'start': '16:30', 'end': '17:45'}]}]}, {'name': '생산시스템관리', 'gradeTime': 3, 'isMandatory': False, 'subjects': [{'name': '생산시스템관리(가)', 'time': [{'day': 'MON', 'start': '10:30', 'end': '11:45'}, {'day': 'THU', 'start': '12:00', 'end': '13:15'}]}, {'name': '생산시스템관리(나)', 'time': [{'day': 'MON', 'start': '12:00', 'end': '13:15'}, {'day': 'THU', 'start': '13:30', 'end': '14:45'}]}, {'name': '생산시스템관리(다)', 'time': [{'day': 'TUE', 'start': '12:00', 'end': '13:15'}, {'day': 'THU', 'start': '16:30', 'end': '17:45'}]}]})]\n"
     ]
    }
   ],
   "source": [
    "# 1. 컴비네이션으로 전공선택 몇개 고른 경우의 수 모두 구하기 (최소 학점 넘는 경우의 수)\n",
    "print(list(combinations(filter(lambda x: not x[\"isMandatory\"], input_data[\"groups\"]), input_data[\"minSubjectsCount\"])))"
   ]
  },
  {
   "cell_type": "code",
   "execution_count": 112,
   "metadata": {},
   "outputs": [
    {
     "name": "stdout",
     "output_type": "stream",
     "text": [
      "[{'freeDays': [], 'schedule': [{'name': '프로그래밍언어C', 'time': [{'day': 'TUE', 'start': '15:00', 'end': '16:15'}, {'day': 'THU', 'start': '15:00', 'end': '16:15'}]}, {'name': '마케팅A', 'time': [{'day': 'TUE', 'start': '13:30', 'end': '14:45'}, {'day': 'THU', 'start': '13:30', 'end': '14:45'}]}, {'name': 'Entrepreneurship (최금선)', 'time': [{'day': 'THU', 'start': '10:30', 'end': '11:45'}, {'day': 'THU', 'start': '12:00', 'end': '13:15'}]}, {'name': '생산시스템관리(다)', 'time': [{'day': 'TUE', 'start': '12:00', 'end': '13:15'}, {'day': 'THU', 'start': '16:30', 'end': '17:45'}]}], 'freeTimeBetweenClasses': {'MON': -1, 'TUE': -1, 'WED': -1, 'THU': -1, 'FRI': -1}}, {'freeDays': [], 'schedule': [{'name': '프로그래밍언어C', 'time': [{'day': 'TUE', 'start': '15:00', 'end': '16:15'}, {'day': 'THU', 'start': '15:00', 'end': '16:15'}]}, {'name': '마케팅A', 'time': [{'day': 'TUE', 'start': '13:30', 'end': '14:45'}, {'day': 'THU', 'start': '13:30', 'end': '14:45'}]}, {'name': 'Entrepreneurship (김영수)A', 'time': [{'day': 'MON', 'start': '15:00', 'end': '16:15'}, {'day': 'WED', 'start': '15:00', 'end': '16:15'}]}, {'name': '생산시스템관리(가)', 'time': [{'day': 'MON', 'start': '10:30', 'end': '11:45'}, {'day': 'THU', 'start': '12:00', 'end': '13:15'}]}], 'freeTimeBetweenClasses': {'MON': -1, 'TUE': -1, 'WED': -1, 'THU': -1, 'FRI': -1}}, {'freeDays': [], 'schedule': [{'name': '프로그래밍언어C', 'time': [{'day': 'TUE', 'start': '15:00', 'end': '16:15'}, {'day': 'THU', 'start': '15:00', 'end': '16:15'}]}, {'name': '마케팅A', 'time': [{'day': 'TUE', 'start': '13:30', 'end': '14:45'}, {'day': 'THU', 'start': '13:30', 'end': '14:45'}]}, {'name': 'Entrepreneurship (김영수)A', 'time': [{'day': 'MON', 'start': '15:00', 'end': '16:15'}, {'day': 'WED', 'start': '15:00', 'end': '16:15'}]}, {'name': '생산시스템관리(다)', 'time': [{'day': 'TUE', 'start': '12:00', 'end': '13:15'}, {'day': 'THU', 'start': '16:30', 'end': '17:45'}]}], 'freeTimeBetweenClasses': {'MON': -1, 'TUE': -1, 'WED': -1, 'THU': -1, 'FRI': -1}}, {'freeDays': [], 'schedule': [{'name': '프로그래밍언어C', 'time': [{'day': 'TUE', 'start': '15:00', 'end': '16:15'}, {'day': 'THU', 'start': '15:00', 'end': '16:15'}]}, {'name': '마케팅A', 'time': [{'day': 'TUE', 'start': '13:30', 'end': '14:45'}, {'day': 'THU', 'start': '13:30', 'end': '14:45'}]}, {'name': 'Entrepreneurship (김영수)B', 'time': [{'day': 'MON', 'start': '16:30', 'end': '17:45'}, {'day': 'WED', 'start': '16:30', 'end': '17:45'}]}, {'name': '생산시스템관리(가)', 'time': [{'day': 'MON', 'start': '10:30', 'end': '11:45'}, {'day': 'THU', 'start': '12:00', 'end': '13:15'}]}], 'freeTimeBetweenClasses': {'MON': -1, 'TUE': -1, 'WED': -1, 'THU': -1, 'FRI': -1}}, {'freeDays': [], 'schedule': [{'name': '프로그래밍언어C', 'time': [{'day': 'TUE', 'start': '15:00', 'end': '16:15'}, {'day': 'THU', 'start': '15:00', 'end': '16:15'}]}, {'name': '마케팅A', 'time': [{'day': 'TUE', 'start': '13:30', 'end': '14:45'}, {'day': 'THU', 'start': '13:30', 'end': '14:45'}]}, {'name': 'Entrepreneurship (김영수)B', 'time': [{'day': 'MON', 'start': '16:30', 'end': '17:45'}, {'day': 'WED', 'start': '16:30', 'end': '17:45'}]}, {'name': '생산시스템관리(다)', 'time': [{'day': 'TUE', 'start': '12:00', 'end': '13:15'}, {'day': 'THU', 'start': '16:30', 'end': '17:45'}]}], 'freeTimeBetweenClasses': {'MON': -1, 'TUE': -1, 'WED': -1, 'THU': -1, 'FRI': -1}}]\n"
     ]
    }
   ],
   "source": [
    "# 2. 3 -> 3 -> 3 등등 이런 식으로 재귀로 가면서 시간 상 가능한 경우의 수 arr에 다 추가\n",
    "def recursion(targetDepth: int, schedule_arr:list,result_array:list):\n",
    "    if targetDepth == len(schedule_arr):\n",
    "        result_array.append({\n",
    "            \"freeDays\":[],\n",
    "            \"schedule\": deepcopy(schedule_arr),\n",
    "            \"freeTimeBetweenClasses\":{\n",
    "                \"MON\": -1,\n",
    "                \"TUE\": -1,\n",
    "                \"WED\": -1,\n",
    "                \"THU\": -1,\n",
    "                \"FRI\": -1\n",
    "            }\n",
    "            \n",
    "        })\n",
    "        return\n",
    "    \n",
    "    # 다음 과목과 시간 겹치면 끝\n",
    "    for next_subject in input_data['groups'][len(schedule_arr)]['subjects']:\n",
    "        flag = True\n",
    "        for next_subject_time in next_subject['time']:\n",
    "            for schedule in schedule_arr: # 가지고 있는 모든 과목들 순환\n",
    "                for prev_subject_time in schedule['time']:\n",
    "                    if next_subject_time['day'] == prev_subject_time['day']:\n",
    "                        # 겹치면 바로 끝\n",
    "                        if next_subject_time['start'] < prev_subject_time['end'] and next_subject_time['end'] > prev_subject_time['start']:\n",
    "                            flag = False\n",
    "        if flag:\n",
    "            recursion(targetDepth,[*deepcopy(schedule_arr),deepcopy(next_subject)],result_array)\n",
    "result=[]\n",
    "recursion(4,[],result)\n",
    "print(result)"
   ]
  },
  {
   "cell_type": "code",
   "execution_count": 113,
   "metadata": {},
   "outputs": [
    {
     "name": "stdout",
     "output_type": "stream",
     "text": [
      "0\n",
      "1\n",
      "2\n",
      "3\n",
      "4\n",
      "[{'freeDays': ['MON', 'WED', 'FRI'], 'schedule': [{'name': '프로그래밍언어C', 'time': [{'day': 'TUE', 'start': '15:00', 'end': '16:15'}, {'day': 'THU', 'start': '15:00', 'end': '16:15'}]}, {'name': '마케팅A', 'time': [{'day': 'TUE', 'start': '13:30', 'end': '14:45'}, {'day': 'THU', 'start': '13:30', 'end': '14:45'}]}, {'name': 'Entrepreneurship (최금선)', 'time': [{'day': 'THU', 'start': '10:30', 'end': '11:45'}, {'day': 'THU', 'start': '12:00', 'end': '13:15'}]}, {'name': '생산시스템관리(다)', 'time': [{'day': 'TUE', 'start': '12:00', 'end': '13:15'}, {'day': 'THU', 'start': '16:30', 'end': '17:45'}]}], 'freeTimeBetweenClasses': {'MON': 0, 'TUE': 30, 'WED': 0, 'THU': 60, 'FRI': 0}}, {'freeDays': ['FRI'], 'schedule': [{'name': '프로그래밍언어C', 'time': [{'day': 'TUE', 'start': '15:00', 'end': '16:15'}, {'day': 'THU', 'start': '15:00', 'end': '16:15'}]}, {'name': '마케팅A', 'time': [{'day': 'TUE', 'start': '13:30', 'end': '14:45'}, {'day': 'THU', 'start': '13:30', 'end': '14:45'}]}, {'name': 'Entrepreneurship (김영수)A', 'time': [{'day': 'MON', 'start': '15:00', 'end': '16:15'}, {'day': 'WED', 'start': '15:00', 'end': '16:15'}]}, {'name': '생산시스템관리(가)', 'time': [{'day': 'MON', 'start': '10:30', 'end': '11:45'}, {'day': 'THU', 'start': '12:00', 'end': '13:15'}]}], 'freeTimeBetweenClasses': {'MON': 195, 'TUE': 15, 'WED': 0, 'THU': 30, 'FRI': 0}}, {'freeDays': ['FRI'], 'schedule': [{'name': '프로그래밍언어C', 'time': [{'day': 'TUE', 'start': '15:00', 'end': '16:15'}, {'day': 'THU', 'start': '15:00', 'end': '16:15'}]}, {'name': '마케팅A', 'time': [{'day': 'TUE', 'start': '13:30', 'end': '14:45'}, {'day': 'THU', 'start': '13:30', 'end': '14:45'}]}, {'name': 'Entrepreneurship (김영수)A', 'time': [{'day': 'MON', 'start': '15:00', 'end': '16:15'}, {'day': 'WED', 'start': '15:00', 'end': '16:15'}]}, {'name': '생산시스템관리(다)', 'time': [{'day': 'TUE', 'start': '12:00', 'end': '13:15'}, {'day': 'THU', 'start': '16:30', 'end': '17:45'}]}], 'freeTimeBetweenClasses': {'MON': 0, 'TUE': 30, 'WED': 0, 'THU': 30, 'FRI': 0}}, {'freeDays': ['FRI'], 'schedule': [{'name': '프로그래밍언어C', 'time': [{'day': 'TUE', 'start': '15:00', 'end': '16:15'}, {'day': 'THU', 'start': '15:00', 'end': '16:15'}]}, {'name': '마케팅A', 'time': [{'day': 'TUE', 'start': '13:30', 'end': '14:45'}, {'day': 'THU', 'start': '13:30', 'end': '14:45'}]}, {'name': 'Entrepreneurship (김영수)B', 'time': [{'day': 'MON', 'start': '16:30', 'end': '17:45'}, {'day': 'WED', 'start': '16:30', 'end': '17:45'}]}, {'name': '생산시스템관리(가)', 'time': [{'day': 'MON', 'start': '10:30', 'end': '11:45'}, {'day': 'THU', 'start': '12:00', 'end': '13:15'}]}], 'freeTimeBetweenClasses': {'MON': 285, 'TUE': 15, 'WED': 0, 'THU': 30, 'FRI': 0}}, {'freeDays': ['FRI'], 'schedule': [{'name': '프로그래밍언어C', 'time': [{'day': 'TUE', 'start': '15:00', 'end': '16:15'}, {'day': 'THU', 'start': '15:00', 'end': '16:15'}]}, {'name': '마케팅A', 'time': [{'day': 'TUE', 'start': '13:30', 'end': '14:45'}, {'day': 'THU', 'start': '13:30', 'end': '14:45'}]}, {'name': 'Entrepreneurship (김영수)B', 'time': [{'day': 'MON', 'start': '16:30', 'end': '17:45'}, {'day': 'WED', 'start': '16:30', 'end': '17:45'}]}, {'name': '생산시스템관리(다)', 'time': [{'day': 'TUE', 'start': '12:00', 'end': '13:15'}, {'day': 'THU', 'start': '16:30', 'end': '17:45'}]}], 'freeTimeBetweenClasses': {'MON': 0, 'TUE': 30, 'WED': 0, 'THU': 30, 'FRI': 0}}]\n"
     ]
    }
   ],
   "source": [
    "# 3. free_days을 구하고, 각 일의 free time between classes를 구한다\n",
    "days = set([\"MON\",\"TUE\",\"WED\",\"THU\",\"FRI\"])\n",
    "for idx,candidates in enumerate(result):\n",
    "    print(idx)\n",
    "    used_days = set()\n",
    "    for subject in candidates[\"schedule\"]:\n",
    "        # print('prin t sbu')\n",
    "        # print(subject)\n",
    "        for time in subject['time']:\n",
    "            # print(time)\n",
    "            used_days.add(time['day'])\n",
    "    # print(days - used_days)\n",
    "    candidates[\"freeDays\"] = list(days - used_days)\n",
    "\n",
    "\n",
    "# 각 일의 free time between classes를 구한다 ** 이게 어렵네\n",
    "for candidates in result:\n",
    "    for day in [\"MON\",\"TUE\",\"WED\",\"THU\",\"FRI\"]:\n",
    "        free_time_between_classes = 0\n",
    "        classes_today = []\n",
    "        for subject in candidates[\"schedule\"]:\n",
    "            for time in subject['time']:\n",
    "                if time['day'] == day:\n",
    "                    classes_today.append((subject['name'],time['start'],time['end']))\n",
    "        classes_today.sort(key=lambda x:x[1])\n",
    "        for idx, class_today in enumerate(classes_today):\n",
    "            if idx == 0:\n",
    "                continue\n",
    "            free_time_between_classes += (string_time_to_minutes(\n",
    "                classes_today[idx][1]\n",
    "            ) - string_time_to_minutes(classes_today[idx - 1][2]))\n",
    "        candidates[\"freeTimeBetweenClasses\"][day] = free_time_between_classes\n",
    "\n",
    "print(result)"
   ]
  },
  {
   "cell_type": "code",
   "execution_count": null,
   "metadata": {},
   "outputs": [],
   "source": []
  }
 ],
 "metadata": {
  "kernelspec": {
   "display_name": "Python 3",
   "language": "python",
   "name": "python3"
  },
  "language_info": {
   "codemirror_mode": {
    "name": "ipython",
    "version": 3
   },
   "file_extension": ".py",
   "mimetype": "text/x-python",
   "name": "python",
   "nbconvert_exporter": "python",
   "pygments_lexer": "ipython3",
   "version": "3.9.6"
  }
 },
 "nbformat": 4,
 "nbformat_minor": 2
}
